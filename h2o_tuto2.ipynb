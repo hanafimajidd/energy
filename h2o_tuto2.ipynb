{
  "nbformat": 4,
  "nbformat_minor": 0,
  "metadata": {
    "colab": {
      "name": "h2o_tuto2.ipynb",
      "provenance": [],
      "authorship_tag": "ABX9TyNhrn1A3GdaDeb0Y5voi76H",
      "include_colab_link": true
    },
    "kernelspec": {
      "name": "python3",
      "display_name": "Python 3"
    },
    "language_info": {
      "name": "python"
    }
  },
  "cells": [
    {
      "cell_type": "markdown",
      "metadata": {
        "id": "view-in-github",
        "colab_type": "text"
      },
      "source": [
        "<a href=\"https://colab.research.google.com/github/hanafimajidd/energy/blob/main/h2o_tuto2.ipynb\" target=\"_parent\"><img src=\"https://colab.research.google.com/assets/colab-badge.svg\" alt=\"Open In Colab\"/></a>"
      ]
    },
    {
      "cell_type": "code",
      "execution_count": 2,
      "metadata": {
        "colab": {
          "base_uri": "https://localhost:8080/"
        },
        "collapsed": true,
        "id": "rBTT7cfkOdKm",
        "outputId": "2f16f3a4-bd0a-4878-ddc8-794eead005a9"
      },
      "outputs": [
        {
          "output_type": "stream",
          "name": "stdout",
          "text": [
            "Looking in indexes: https://pypi.org/simple, https://us-python.pkg.dev/colab-wheels/public/simple/\n",
            "Requirement already satisfied: requests in /usr/local/lib/python3.7/dist-packages (2.23.0)\n",
            "Requirement already satisfied: certifi>=2017.4.17 in /usr/local/lib/python3.7/dist-packages (from requests) (2022.6.15)\n",
            "Requirement already satisfied: chardet<4,>=3.0.2 in /usr/local/lib/python3.7/dist-packages (from requests) (3.0.4)\n",
            "Requirement already satisfied: idna<3,>=2.5 in /usr/local/lib/python3.7/dist-packages (from requests) (2.10)\n",
            "Requirement already satisfied: urllib3!=1.25.0,!=1.25.1,<1.26,>=1.21.1 in /usr/local/lib/python3.7/dist-packages (from requests) (1.24.3)\n",
            "Looking in indexes: https://pypi.org/simple, https://us-python.pkg.dev/colab-wheels/public/simple/\n",
            "Requirement already satisfied: tabulate in /usr/local/lib/python3.7/dist-packages (0.8.10)\n",
            "Looking in indexes: https://pypi.org/simple, https://us-python.pkg.dev/colab-wheels/public/simple/\n",
            "Requirement already satisfied: future in /usr/local/lib/python3.7/dist-packages (0.16.0)\n"
          ]
        }
      ],
      "source": [
        "!pip install requests\n",
        "!pip install tabulate\n",
        "!pip install future"
      ]
    },
    {
      "cell_type": "code",
      "source": [
        "!pip install -f http://h2o-release.s3.amazonaws.com/h2o/latest_stable_Py.html h2o"
      ],
      "metadata": {
        "colab": {
          "base_uri": "https://localhost:8080/"
        },
        "collapsed": true,
        "id": "uTobxNeZOh_P",
        "outputId": "2aec3feb-f1fc-4656-f250-3d1d55689419"
      },
      "execution_count": 3,
      "outputs": [
        {
          "output_type": "stream",
          "name": "stdout",
          "text": [
            "Looking in indexes: https://pypi.org/simple, https://us-python.pkg.dev/colab-wheels/public/simple/\n",
            "Looking in links: http://h2o-release.s3.amazonaws.com/h2o/latest_stable_Py.html\n",
            "\u001b[33mWARNING: The repository located at h2o-release.s3.amazonaws.com is not a trusted or secure host and is being ignored. If this repository is available via HTTPS we recommend you use HTTPS instead, otherwise you may silence this warning and allow it anyway with '--trusted-host h2o-release.s3.amazonaws.com'.\u001b[0m\n",
            "Collecting h2o\n",
            "  Downloading h2o-3.36.1.4.tar.gz (177.1 MB)\n",
            "\u001b[K     |████████████████████████████████| 177.1 MB 42 kB/s \n",
            "\u001b[?25hRequirement already satisfied: requests in /usr/local/lib/python3.7/dist-packages (from h2o) (2.23.0)\n",
            "Requirement already satisfied: tabulate in /usr/local/lib/python3.7/dist-packages (from h2o) (0.8.10)\n",
            "Requirement already satisfied: future in /usr/local/lib/python3.7/dist-packages (from h2o) (0.16.0)\n",
            "Requirement already satisfied: chardet<4,>=3.0.2 in /usr/local/lib/python3.7/dist-packages (from requests->h2o) (3.0.4)\n",
            "Requirement already satisfied: idna<3,>=2.5 in /usr/local/lib/python3.7/dist-packages (from requests->h2o) (2.10)\n",
            "Requirement already satisfied: certifi>=2017.4.17 in /usr/local/lib/python3.7/dist-packages (from requests->h2o) (2022.6.15)\n",
            "Requirement already satisfied: urllib3!=1.25.0,!=1.25.1,<1.26,>=1.21.1 in /usr/local/lib/python3.7/dist-packages (from requests->h2o) (1.24.3)\n",
            "Building wheels for collected packages: h2o\n",
            "  Building wheel for h2o (setup.py) ... \u001b[?25l\u001b[?25hdone\n",
            "  Created wheel for h2o: filename=h2o-3.36.1.4-py2.py3-none-any.whl size=177128127 sha256=f37b6859e3131da7c72d91c67c8033eb070a36fa02ea3d253ab27f05f5e430a2\n",
            "  Stored in directory: /root/.cache/pip/wheels/02/f9/18/5fbae4db903beda26f764b6e035cb41b37713fed8a6b9cd403\n",
            "Successfully built h2o\n",
            "Installing collected packages: h2o\n",
            "Successfully installed h2o-3.36.1.4\n"
          ]
        }
      ]
    },
    {
      "cell_type": "code",
      "source": [
        "import h2o\n",
        "h2o.init()"
      ],
      "metadata": {
        "colab": {
          "base_uri": "https://localhost:8080/",
          "height": 516
        },
        "collapsed": true,
        "id": "qKgxKt2OOmnm",
        "outputId": "555aed83-bda3-41dc-8abc-1ae4527fca6b"
      },
      "execution_count": 4,
      "outputs": [
        {
          "output_type": "stream",
          "name": "stdout",
          "text": [
            "Checking whether there is an H2O instance running at http://localhost:54321 ..... not found.\n",
            "Attempting to start a local H2O server...\n",
            "  Java Version: openjdk version \"11.0.15\" 2022-04-19; OpenJDK Runtime Environment (build 11.0.15+10-Ubuntu-0ubuntu0.18.04.1); OpenJDK 64-Bit Server VM (build 11.0.15+10-Ubuntu-0ubuntu0.18.04.1, mixed mode, sharing)\n",
            "  Starting server from /usr/local/lib/python3.7/dist-packages/h2o/backend/bin/h2o.jar\n",
            "  Ice root: /tmp/tmpcau7vrep\n",
            "  JVM stdout: /tmp/tmpcau7vrep/h2o_unknownUser_started_from_python.out\n",
            "  JVM stderr: /tmp/tmpcau7vrep/h2o_unknownUser_started_from_python.err\n",
            "  Server is running at http://127.0.0.1:54321\n",
            "Connecting to H2O server at http://127.0.0.1:54321 ... successful.\n"
          ]
        },
        {
          "output_type": "display_data",
          "data": {
            "text/plain": [
              "--------------------------  ----------------------------------\n",
              "H2O_cluster_uptime:         03 secs\n",
              "H2O_cluster_timezone:       Etc/UTC\n",
              "H2O_data_parsing_timezone:  UTC\n",
              "H2O_cluster_version:        3.36.1.4\n",
              "H2O_cluster_version_age:    1 day\n",
              "H2O_cluster_name:           H2O_from_python_unknownUser_lwrqf5\n",
              "H2O_cluster_total_nodes:    1\n",
              "H2O_cluster_free_memory:    3.172 Gb\n",
              "H2O_cluster_total_cores:    2\n",
              "H2O_cluster_allowed_cores:  2\n",
              "H2O_cluster_status:         locked, healthy\n",
              "H2O_connection_url:         http://127.0.0.1:54321\n",
              "H2O_connection_proxy:       {\"http\": null, \"https\": null}\n",
              "H2O_internal_security:      False\n",
              "Python_version:             3.7.13 final\n",
              "--------------------------  ----------------------------------"
            ],
            "text/html": [
              "<div style=\"overflow:auto\"><table style=\"width:50%\"><tr><td>H2O_cluster_uptime:</td>\n",
              "<td>03 secs</td></tr>\n",
              "<tr><td>H2O_cluster_timezone:</td>\n",
              "<td>Etc/UTC</td></tr>\n",
              "<tr><td>H2O_data_parsing_timezone:</td>\n",
              "<td>UTC</td></tr>\n",
              "<tr><td>H2O_cluster_version:</td>\n",
              "<td>3.36.1.4</td></tr>\n",
              "<tr><td>H2O_cluster_version_age:</td>\n",
              "<td>1 day </td></tr>\n",
              "<tr><td>H2O_cluster_name:</td>\n",
              "<td>H2O_from_python_unknownUser_lwrqf5</td></tr>\n",
              "<tr><td>H2O_cluster_total_nodes:</td>\n",
              "<td>1</td></tr>\n",
              "<tr><td>H2O_cluster_free_memory:</td>\n",
              "<td>3.172 Gb</td></tr>\n",
              "<tr><td>H2O_cluster_total_cores:</td>\n",
              "<td>2</td></tr>\n",
              "<tr><td>H2O_cluster_allowed_cores:</td>\n",
              "<td>2</td></tr>\n",
              "<tr><td>H2O_cluster_status:</td>\n",
              "<td>locked, healthy</td></tr>\n",
              "<tr><td>H2O_connection_url:</td>\n",
              "<td>http://127.0.0.1:54321</td></tr>\n",
              "<tr><td>H2O_connection_proxy:</td>\n",
              "<td>{\"http\": null, \"https\": null}</td></tr>\n",
              "<tr><td>H2O_internal_security:</td>\n",
              "<td>False</td></tr>\n",
              "<tr><td>Python_version:</td>\n",
              "<td>3.7.13 final</td></tr></table></div>"
            ]
          },
          "metadata": {}
        }
      ]
    },
    {
      "cell_type": "code",
      "source": [
        "from h2o.automl import H2OAutoML   "
      ],
      "metadata": {
        "id": "d_r2v8QZOsWu"
      },
      "execution_count": 5,
      "outputs": []
    },
    {
      "cell_type": "code",
      "source": [
        "#importing data from a local CSV file\n",
        "from google.colab import files\n",
        "uploaded = files.upload()"
      ],
      "metadata": {
        "colab": {
          "resources": {
            "http://localhost:8080/nbextensions/google.colab/files.js": {
              "data": "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",
              "ok": true,
              "headers": [
                [
                  "content-type",
                  "application/javascript"
                ]
              ],
              "status": 200,
              "status_text": ""
            }
          },
          "base_uri": "https://localhost:8080/",
          "height": 73
        },
        "collapsed": true,
        "id": "IJ3QxBFdOwzH",
        "outputId": "7af38487-8d35-416f-ae49-da1c35b9143a"
      },
      "execution_count": 6,
      "outputs": [
        {
          "output_type": "display_data",
          "data": {
            "text/plain": [
              "<IPython.core.display.HTML object>"
            ],
            "text/html": [
              "\n",
              "     <input type=\"file\" id=\"files-50e9c0db-b0f0-4980-9bb9-e93732a5d620\" name=\"files[]\" multiple disabled\n",
              "        style=\"border:none\" />\n",
              "     <output id=\"result-50e9c0db-b0f0-4980-9bb9-e93732a5d620\">\n",
              "      Upload widget is only available when the cell has been executed in the\n",
              "      current browser session. Please rerun this cell to enable.\n",
              "      </output>\n",
              "      <script src=\"/nbextensions/google.colab/files.js\"></script> "
            ]
          },
          "metadata": {}
        },
        {
          "output_type": "stream",
          "name": "stdout",
          "text": [
            "Saving energydata_complete_3.csv to energydata_complete_3.csv\n"
          ]
        }
      ]
    },
    {
      "cell_type": "code",
      "source": [
        "df = h2o.import_file(\"energydata_complete_3.csv\")"
      ],
      "metadata": {
        "colab": {
          "base_uri": "https://localhost:8080/"
        },
        "collapsed": true,
        "id": "1uycVPljO3eX",
        "outputId": "7094a254-92b4-40f8-a324-7397bfd8e7a8"
      },
      "execution_count": 7,
      "outputs": [
        {
          "output_type": "stream",
          "name": "stdout",
          "text": [
            "Parse progress: |████████████████████████████████████████████████████████████████| (done) 100%\n"
          ]
        }
      ]
    },
    {
      "cell_type": "code",
      "source": [
        "df.head()"
      ],
      "metadata": {
        "colab": {
          "base_uri": "https://localhost:8080/",
          "height": 274
        },
        "collapsed": true,
        "id": "VI4QfOZSO5wW",
        "outputId": "ea5f13a9-5414-47ae-8763-bafe8d17c76d"
      },
      "execution_count": 8,
      "outputs": [
        {
          "output_type": "display_data",
          "data": {
            "text/html": [
              "<table>\n",
              "<thead>\n",
              "<tr><th style=\"text-align: right;\">  lights</th><th style=\"text-align: right;\">     T1</th><th style=\"text-align: right;\">   RH_1</th><th style=\"text-align: right;\">   T2</th><th style=\"text-align: right;\">   RH_2</th><th style=\"text-align: right;\">   T3</th><th style=\"text-align: right;\">   RH_3</th><th style=\"text-align: right;\">     T4</th><th style=\"text-align: right;\">   RH_4</th><th style=\"text-align: right;\">     T5</th><th style=\"text-align: right;\">   RH_5</th><th style=\"text-align: right;\">     T6</th><th style=\"text-align: right;\">   RH_6</th><th style=\"text-align: right;\">     T7</th><th style=\"text-align: right;\">   RH_7</th><th style=\"text-align: right;\">  T8</th><th style=\"text-align: right;\">   RH_8</th><th style=\"text-align: right;\">     T9</th><th style=\"text-align: right;\">  RH_9</th><th style=\"text-align: right;\">  T_out</th><th style=\"text-align: right;\">  Press_mm_hg</th><th style=\"text-align: right;\">  RH_out</th><th style=\"text-align: right;\">  Windspeed</th><th style=\"text-align: right;\">  Visibility</th><th style=\"text-align: right;\">  Tdewpoint</th><th style=\"text-align: right;\">     rv1</th><th style=\"text-align: right;\">     rv2</th><th style=\"text-align: right;\">  Appliances</th></tr>\n",
              "</thead>\n",
              "<tbody>\n",
              "<tr><td style=\"text-align: right;\">      30</td><td style=\"text-align: right;\">19.89  </td><td style=\"text-align: right;\">47.5967</td><td style=\"text-align: right;\">19.2 </td><td style=\"text-align: right;\">44.79  </td><td style=\"text-align: right;\">19.79</td><td style=\"text-align: right;\">44.73  </td><td style=\"text-align: right;\">19     </td><td style=\"text-align: right;\">45.5667</td><td style=\"text-align: right;\">17.1667</td><td style=\"text-align: right;\">55.2   </td><td style=\"text-align: right;\">7.02667</td><td style=\"text-align: right;\">84.2567</td><td style=\"text-align: right;\">17.2   </td><td style=\"text-align: right;\">41.6267</td><td style=\"text-align: right;\">18.2</td><td style=\"text-align: right;\">48.9   </td><td style=\"text-align: right;\">17.0333</td><td style=\"text-align: right;\"> 45.53</td><td style=\"text-align: right;\">   6.6 </td><td style=\"text-align: right;\">      733.5  </td><td style=\"text-align: right;\"> 92     </td><td style=\"text-align: right;\">    7      </td><td style=\"text-align: right;\">     63     </td><td style=\"text-align: right;\">       5.3 </td><td style=\"text-align: right;\">13.2754 </td><td style=\"text-align: right;\">13.2754 </td><td style=\"text-align: right;\">          60</td></tr>\n",
              "<tr><td style=\"text-align: right;\">      30</td><td style=\"text-align: right;\">19.89  </td><td style=\"text-align: right;\">46.6933</td><td style=\"text-align: right;\">19.2 </td><td style=\"text-align: right;\">44.7225</td><td style=\"text-align: right;\">19.79</td><td style=\"text-align: right;\">44.79  </td><td style=\"text-align: right;\">19     </td><td style=\"text-align: right;\">45.9925</td><td style=\"text-align: right;\">17.1667</td><td style=\"text-align: right;\">55.2   </td><td style=\"text-align: right;\">6.83333</td><td style=\"text-align: right;\">84.0633</td><td style=\"text-align: right;\">17.2   </td><td style=\"text-align: right;\">41.56  </td><td style=\"text-align: right;\">18.2</td><td style=\"text-align: right;\">48.8633</td><td style=\"text-align: right;\">17.0667</td><td style=\"text-align: right;\"> 45.56</td><td style=\"text-align: right;\">   6.48</td><td style=\"text-align: right;\">      733.6  </td><td style=\"text-align: right;\"> 92     </td><td style=\"text-align: right;\">    6.66667</td><td style=\"text-align: right;\">     59.1667</td><td style=\"text-align: right;\">       5.2 </td><td style=\"text-align: right;\">18.6062 </td><td style=\"text-align: right;\">18.6062 </td><td style=\"text-align: right;\">          60</td></tr>\n",
              "<tr><td style=\"text-align: right;\">      30</td><td style=\"text-align: right;\">19.89  </td><td style=\"text-align: right;\">46.3   </td><td style=\"text-align: right;\">19.2 </td><td style=\"text-align: right;\">44.6267</td><td style=\"text-align: right;\">19.79</td><td style=\"text-align: right;\">44.9333</td><td style=\"text-align: right;\">18.9267</td><td style=\"text-align: right;\">45.89  </td><td style=\"text-align: right;\">17.1667</td><td style=\"text-align: right;\">55.09  </td><td style=\"text-align: right;\">6.56   </td><td style=\"text-align: right;\">83.1567</td><td style=\"text-align: right;\">17.2   </td><td style=\"text-align: right;\">41.4333</td><td style=\"text-align: right;\">18.2</td><td style=\"text-align: right;\">48.73  </td><td style=\"text-align: right;\">17     </td><td style=\"text-align: right;\"> 45.5 </td><td style=\"text-align: right;\">   6.37</td><td style=\"text-align: right;\">      733.7  </td><td style=\"text-align: right;\"> 92     </td><td style=\"text-align: right;\">    6.33333</td><td style=\"text-align: right;\">     55.3333</td><td style=\"text-align: right;\">       5.1 </td><td style=\"text-align: right;\">28.6427 </td><td style=\"text-align: right;\">28.6427 </td><td style=\"text-align: right;\">          50</td></tr>\n",
              "<tr><td style=\"text-align: right;\">      40</td><td style=\"text-align: right;\">19.89  </td><td style=\"text-align: right;\">46.0667</td><td style=\"text-align: right;\">19.2 </td><td style=\"text-align: right;\">44.59  </td><td style=\"text-align: right;\">19.79</td><td style=\"text-align: right;\">45     </td><td style=\"text-align: right;\">18.89  </td><td style=\"text-align: right;\">45.7233</td><td style=\"text-align: right;\">17.1667</td><td style=\"text-align: right;\">55.09  </td><td style=\"text-align: right;\">6.43333</td><td style=\"text-align: right;\">83.4233</td><td style=\"text-align: right;\">17.1333</td><td style=\"text-align: right;\">41.29  </td><td style=\"text-align: right;\">18.1</td><td style=\"text-align: right;\">48.59  </td><td style=\"text-align: right;\">17     </td><td style=\"text-align: right;\"> 45.4 </td><td style=\"text-align: right;\">   6.25</td><td style=\"text-align: right;\">      733.8  </td><td style=\"text-align: right;\"> 92     </td><td style=\"text-align: right;\">    6      </td><td style=\"text-align: right;\">     51.5   </td><td style=\"text-align: right;\">       5   </td><td style=\"text-align: right;\">45.4104 </td><td style=\"text-align: right;\">45.4104 </td><td style=\"text-align: right;\">          50</td></tr>\n",
              "<tr><td style=\"text-align: right;\">      40</td><td style=\"text-align: right;\">19.89  </td><td style=\"text-align: right;\">46.3333</td><td style=\"text-align: right;\">19.2 </td><td style=\"text-align: right;\">44.53  </td><td style=\"text-align: right;\">19.79</td><td style=\"text-align: right;\">45     </td><td style=\"text-align: right;\">18.89  </td><td style=\"text-align: right;\">45.53  </td><td style=\"text-align: right;\">17.2   </td><td style=\"text-align: right;\">55.09  </td><td style=\"text-align: right;\">6.36667</td><td style=\"text-align: right;\">84.8933</td><td style=\"text-align: right;\">17.2   </td><td style=\"text-align: right;\">41.23  </td><td style=\"text-align: right;\">18.1</td><td style=\"text-align: right;\">48.59  </td><td style=\"text-align: right;\">17     </td><td style=\"text-align: right;\"> 45.4 </td><td style=\"text-align: right;\">   6.13</td><td style=\"text-align: right;\">      733.9  </td><td style=\"text-align: right;\"> 92     </td><td style=\"text-align: right;\">    5.66667</td><td style=\"text-align: right;\">     47.6667</td><td style=\"text-align: right;\">       4.9 </td><td style=\"text-align: right;\">10.0841 </td><td style=\"text-align: right;\">10.0841 </td><td style=\"text-align: right;\">          60</td></tr>\n",
              "<tr><td style=\"text-align: right;\">      40</td><td style=\"text-align: right;\">19.89  </td><td style=\"text-align: right;\">46.0267</td><td style=\"text-align: right;\">19.2 </td><td style=\"text-align: right;\">44.5   </td><td style=\"text-align: right;\">19.79</td><td style=\"text-align: right;\">44.9333</td><td style=\"text-align: right;\">18.89  </td><td style=\"text-align: right;\">45.73  </td><td style=\"text-align: right;\">17.1333</td><td style=\"text-align: right;\">55.03  </td><td style=\"text-align: right;\">6.3    </td><td style=\"text-align: right;\">85.7667</td><td style=\"text-align: right;\">17.1333</td><td style=\"text-align: right;\">41.26  </td><td style=\"text-align: right;\">18.1</td><td style=\"text-align: right;\">48.59  </td><td style=\"text-align: right;\">17     </td><td style=\"text-align: right;\"> 45.29</td><td style=\"text-align: right;\">   6.02</td><td style=\"text-align: right;\">      734    </td><td style=\"text-align: right;\"> 92     </td><td style=\"text-align: right;\">    5.33333</td><td style=\"text-align: right;\">     43.8333</td><td style=\"text-align: right;\">       4.8 </td><td style=\"text-align: right;\">44.9195 </td><td style=\"text-align: right;\">44.9195 </td><td style=\"text-align: right;\">          50</td></tr>\n",
              "<tr><td style=\"text-align: right;\">      50</td><td style=\"text-align: right;\">19.89  </td><td style=\"text-align: right;\">45.7667</td><td style=\"text-align: right;\">19.2 </td><td style=\"text-align: right;\">44.5   </td><td style=\"text-align: right;\">19.79</td><td style=\"text-align: right;\">44.9   </td><td style=\"text-align: right;\">18.89  </td><td style=\"text-align: right;\">45.79  </td><td style=\"text-align: right;\">17.1   </td><td style=\"text-align: right;\">54.9667</td><td style=\"text-align: right;\">6.26333</td><td style=\"text-align: right;\">86.09  </td><td style=\"text-align: right;\">17.1333</td><td style=\"text-align: right;\">41.2   </td><td style=\"text-align: right;\">18.1</td><td style=\"text-align: right;\">48.59  </td><td style=\"text-align: right;\">17     </td><td style=\"text-align: right;\"> 45.29</td><td style=\"text-align: right;\">   5.9 </td><td style=\"text-align: right;\">      734.1  </td><td style=\"text-align: right;\"> 92     </td><td style=\"text-align: right;\">    5      </td><td style=\"text-align: right;\">     40     </td><td style=\"text-align: right;\">       4.7 </td><td style=\"text-align: right;\">47.2338 </td><td style=\"text-align: right;\">47.2338 </td><td style=\"text-align: right;\">          60</td></tr>\n",
              "<tr><td style=\"text-align: right;\">      50</td><td style=\"text-align: right;\">19.8567</td><td style=\"text-align: right;\">45.56  </td><td style=\"text-align: right;\">19.2 </td><td style=\"text-align: right;\">44.5   </td><td style=\"text-align: right;\">19.73</td><td style=\"text-align: right;\">44.9   </td><td style=\"text-align: right;\">18.89  </td><td style=\"text-align: right;\">45.8633</td><td style=\"text-align: right;\">17.1   </td><td style=\"text-align: right;\">54.9   </td><td style=\"text-align: right;\">6.19   </td><td style=\"text-align: right;\">86.4233</td><td style=\"text-align: right;\">17.1   </td><td style=\"text-align: right;\">41.2   </td><td style=\"text-align: right;\">18.1</td><td style=\"text-align: right;\">48.59  </td><td style=\"text-align: right;\">17     </td><td style=\"text-align: right;\"> 45.29</td><td style=\"text-align: right;\">   5.92</td><td style=\"text-align: right;\">      734.167</td><td style=\"text-align: right;\"> 91.8333</td><td style=\"text-align: right;\">    5.16667</td><td style=\"text-align: right;\">     40     </td><td style=\"text-align: right;\">       4.68</td><td style=\"text-align: right;\">33.0399 </td><td style=\"text-align: right;\">33.0399 </td><td style=\"text-align: right;\">          60</td></tr>\n",
              "<tr><td style=\"text-align: right;\">      40</td><td style=\"text-align: right;\">19.79  </td><td style=\"text-align: right;\">45.5975</td><td style=\"text-align: right;\">19.2 </td><td style=\"text-align: right;\">44.4333</td><td style=\"text-align: right;\">19.73</td><td style=\"text-align: right;\">44.79  </td><td style=\"text-align: right;\">18.89  </td><td style=\"text-align: right;\">45.79  </td><td style=\"text-align: right;\">17.1667</td><td style=\"text-align: right;\">55     </td><td style=\"text-align: right;\">6.12333</td><td style=\"text-align: right;\">87.2267</td><td style=\"text-align: right;\">17.1667</td><td style=\"text-align: right;\">41.4   </td><td style=\"text-align: right;\">18.1</td><td style=\"text-align: right;\">48.59  </td><td style=\"text-align: right;\">17     </td><td style=\"text-align: right;\"> 45.29</td><td style=\"text-align: right;\">   5.93</td><td style=\"text-align: right;\">      734.233</td><td style=\"text-align: right;\"> 91.6667</td><td style=\"text-align: right;\">    5.33333</td><td style=\"text-align: right;\">     40     </td><td style=\"text-align: right;\">       4.67</td><td style=\"text-align: right;\">31.4557 </td><td style=\"text-align: right;\">31.4557 </td><td style=\"text-align: right;\">          60</td></tr>\n",
              "<tr><td style=\"text-align: right;\">      40</td><td style=\"text-align: right;\">19.8567</td><td style=\"text-align: right;\">46.09  </td><td style=\"text-align: right;\">19.23</td><td style=\"text-align: right;\">44.4   </td><td style=\"text-align: right;\">19.79</td><td style=\"text-align: right;\">44.8633</td><td style=\"text-align: right;\">18.89  </td><td style=\"text-align: right;\">46.0967</td><td style=\"text-align: right;\">17.1   </td><td style=\"text-align: right;\">55     </td><td style=\"text-align: right;\">6.19   </td><td style=\"text-align: right;\">87.6267</td><td style=\"text-align: right;\">17.2   </td><td style=\"text-align: right;\">41.5   </td><td style=\"text-align: right;\">18.1</td><td style=\"text-align: right;\">48.59  </td><td style=\"text-align: right;\">17     </td><td style=\"text-align: right;\"> 45.29</td><td style=\"text-align: right;\">   5.95</td><td style=\"text-align: right;\">      734.3  </td><td style=\"text-align: right;\"> 91.5   </td><td style=\"text-align: right;\">    5.5    </td><td style=\"text-align: right;\">     40     </td><td style=\"text-align: right;\">       4.65</td><td style=\"text-align: right;\"> 3.08931</td><td style=\"text-align: right;\"> 3.08931</td><td style=\"text-align: right;\">          70</td></tr>\n",
              "</tbody>\n",
              "</table>"
            ]
          },
          "metadata": {}
        },
        {
          "output_type": "execute_result",
          "data": {
            "text/plain": [
              ""
            ]
          },
          "metadata": {},
          "execution_count": 8
        }
      ]
    },
    {
      "cell_type": "code",
      "source": [
        "df.types"
      ],
      "metadata": {
        "colab": {
          "base_uri": "https://localhost:8080/"
        },
        "collapsed": true,
        "id": "WLmh47PCO75d",
        "outputId": "26d3d081-5c74-433e-cf19-1264b88e9301"
      },
      "execution_count": 9,
      "outputs": [
        {
          "output_type": "execute_result",
          "data": {
            "text/plain": [
              "{'Appliances': 'int',\n",
              " 'Press_mm_hg': 'real',\n",
              " 'RH_1': 'real',\n",
              " 'RH_2': 'real',\n",
              " 'RH_3': 'real',\n",
              " 'RH_4': 'real',\n",
              " 'RH_5': 'real',\n",
              " 'RH_6': 'real',\n",
              " 'RH_7': 'real',\n",
              " 'RH_8': 'real',\n",
              " 'RH_9': 'real',\n",
              " 'RH_out': 'real',\n",
              " 'T1': 'real',\n",
              " 'T2': 'real',\n",
              " 'T3': 'real',\n",
              " 'T4': 'real',\n",
              " 'T5': 'real',\n",
              " 'T6': 'real',\n",
              " 'T7': 'real',\n",
              " 'T8': 'real',\n",
              " 'T9': 'real',\n",
              " 'T_out': 'real',\n",
              " 'Tdewpoint': 'real',\n",
              " 'Visibility': 'real',\n",
              " 'Windspeed': 'real',\n",
              " 'lights': 'int',\n",
              " 'rv1': 'real',\n",
              " 'rv2': 'real'}"
            ]
          },
          "metadata": {},
          "execution_count": 9
        }
      ]
    },
    {
      "cell_type": "code",
      "source": [
        "df.describe()"
      ],
      "metadata": {
        "colab": {
          "base_uri": "https://localhost:8080/",
          "height": 493
        },
        "collapsed": true,
        "id": "8_bgDa7CO-UC",
        "outputId": "4a4ec58f-f797-4976-f194-3987c9d2b4e0"
      },
      "execution_count": 10,
      "outputs": [
        {
          "output_type": "stream",
          "name": "stdout",
          "text": [
            "Rows:19735\n",
            "Cols:28\n",
            "\n",
            "\n"
          ]
        },
        {
          "output_type": "display_data",
          "data": {
            "text/html": [
              "<table>\n",
              "<thead>\n",
              "<tr><th>       </th><th>lights            </th><th>T1               </th><th>RH_1              </th><th>T2                </th><th>RH_2             </th><th>T3                </th><th>RH_3             </th><th>T4                </th><th>RH_4             </th><th>T5                </th><th>RH_5             </th><th>T6               </th><th>RH_6              </th><th>T7                </th><th>RH_7              </th><th>T8                </th><th>RH_8             </th><th>T9                </th><th>RH_9             </th><th>T_out            </th><th>Press_mm_hg      </th><th>RH_out            </th><th>Windspeed         </th><th>Visibility        </th><th>Tdewpoint        </th><th>rv1               </th><th>rv2               </th><th>Appliances        </th></tr>\n",
              "</thead>\n",
              "<tbody>\n",
              "<tr><td>type   </td><td>int               </td><td>real             </td><td>real              </td><td>real              </td><td>real             </td><td>real              </td><td>real             </td><td>real              </td><td>real             </td><td>real              </td><td>real             </td><td>real             </td><td>real              </td><td>real              </td><td>real              </td><td>real              </td><td>real             </td><td>real              </td><td>real             </td><td>real             </td><td>real             </td><td>real              </td><td>real              </td><td>real              </td><td>real             </td><td>real              </td><td>real              </td><td>int               </td></tr>\n",
              "<tr><td>mins   </td><td>0.0               </td><td>16.79            </td><td>27.02333333       </td><td>16.1              </td><td>20.46333333      </td><td>17.2              </td><td>28.76666667      </td><td>15.1              </td><td>27.66            </td><td>15.33             </td><td>29.815           </td><td>-6.065           </td><td>1.0               </td><td>15.39             </td><td>23.2              </td><td>16.30666667       </td><td>29.6             </td><td>14.89             </td><td>29.16666667      </td><td>-5.0             </td><td>729.3            </td><td>24.0              </td><td>0.0               </td><td>1.0               </td><td>-6.6             </td><td>0.005321682       </td><td>0.005321682       </td><td>10.0              </td></tr>\n",
              "<tr><td>mean   </td><td>3.8018748416518853</td><td>21.68657138674587</td><td>40.259739279775005</td><td>20.34121946383938 </td><td>40.42042041370863</td><td>22.267610984879152</td><td>39.24250007719837</td><td>20.855334722420054</td><td>39.02690378813728</td><td>19.592106328022293</td><td>50.94928262960324</td><td>7.910939332397308</td><td>54.60908338757446 </td><td>20.267106470149997</td><td>35.388200215081355</td><td>22.0291067229805  </td><td>42.93616537239119</td><td>19.485828160605532</td><td>41.55240075337167</td><td>7.412579538890296</td><td>755.5226019761847</td><td>79.75041803901696 </td><td>4.039751710159618 </td><td>38.330833544463715</td><td>3.760994689637699</td><td>24.988033485046117</td><td>24.988033485046117</td><td>97.69495819609831 </td></tr>\n",
              "<tr><td>maxs   </td><td>70.0              </td><td>26.26            </td><td>63.36             </td><td>29.85666667       </td><td>56.02666667      </td><td>29.236            </td><td>50.16333333      </td><td>26.2              </td><td>51.09            </td><td>25.795            </td><td>96.32166667      </td><td>28.29            </td><td>99.9              </td><td>26.0              </td><td>51.4              </td><td>27.23             </td><td>58.78            </td><td>24.5              </td><td>53.32666667      </td><td>26.1             </td><td>772.3            </td><td>100.0             </td><td>14.0              </td><td>66.0              </td><td>15.5             </td><td>49.99652968       </td><td>49.99652968       </td><td>1080.0            </td></tr>\n",
              "<tr><td>sigma  </td><td>7.9359876002158884</td><td>1.606065644817993</td><td>3.9792988304080357</td><td>2.1929735335409837</td><td>4.069812540439981</td><td>2.006110536147324 </td><td>3.25457649262543 </td><td>2.0428844769820684</td><td>4.341320653136515</td><td>1.8446232734814854</td><td>9.022034306515689</td><td>6.090346609880945</td><td>31.149805875498508</td><td>2.1099933240321067</td><td>5.114208029904313 </td><td>1.9561617218020384</td><td>5.224360679582244</td><td>2.014712386066206 </td><td>4.151497323856541</td><td>5.31846396000322 </td><td>7.399440659849179</td><td>14.901087557525136</td><td>2.4512206057322286</td><td>11.794718757379744</td><td>4.195247700854318</td><td>14.496633860427409</td><td>14.496633860427409</td><td>102.52489053740622</td></tr>\n",
              "<tr><td>zeros  </td><td>15252             </td><td>0                </td><td>0                 </td><td>0                 </td><td>0                </td><td>0                 </td><td>0                </td><td>0                 </td><td>0                </td><td>0                 </td><td>0                </td><td>26               </td><td>0                 </td><td>0                 </td><td>0                 </td><td>0                 </td><td>0                </td><td>0                 </td><td>0                </td><td>27               </td><td>0                </td><td>0                 </td><td>6                 </td><td>0                 </td><td>123              </td><td>0                 </td><td>0                 </td><td>0                 </td></tr>\n",
              "<tr><td>missing</td><td>0                 </td><td>0                </td><td>0                 </td><td>0                 </td><td>0                </td><td>0                 </td><td>0                </td><td>0                 </td><td>0                </td><td>0                 </td><td>0                </td><td>0                </td><td>0                 </td><td>0                 </td><td>0                 </td><td>0                 </td><td>0                </td><td>0                 </td><td>0                </td><td>0                </td><td>0                </td><td>0                 </td><td>0                 </td><td>0                 </td><td>0                </td><td>0                 </td><td>0                 </td><td>0                 </td></tr>\n",
              "<tr><td>0      </td><td>30.0              </td><td>19.89            </td><td>47.59666667       </td><td>19.2              </td><td>44.79            </td><td>19.79             </td><td>44.73            </td><td>19.0              </td><td>45.56666667      </td><td>17.16666667       </td><td>55.2             </td><td>7.026666667      </td><td>84.25666667       </td><td>17.2              </td><td>41.62666667       </td><td>18.2              </td><td>48.9             </td><td>17.03333333       </td><td>45.53            </td><td>6.6              </td><td>733.5            </td><td>92.0              </td><td>7.0               </td><td>63.0              </td><td>5.3              </td><td>13.27543316       </td><td>13.27543316       </td><td>60.0              </td></tr>\n",
              "<tr><td>1      </td><td>30.0              </td><td>19.89            </td><td>46.69333333       </td><td>19.2              </td><td>44.7225          </td><td>19.79             </td><td>44.79            </td><td>19.0              </td><td>45.9925          </td><td>17.16666667       </td><td>55.2             </td><td>6.833333333      </td><td>84.06333333       </td><td>17.2              </td><td>41.56             </td><td>18.2              </td><td>48.86333333      </td><td>17.06666667       </td><td>45.56            </td><td>6.48             </td><td>733.6            </td><td>92.0              </td><td>6.666666667       </td><td>59.16666667       </td><td>5.2              </td><td>18.60619498       </td><td>18.60619498       </td><td>60.0              </td></tr>\n",
              "<tr><td>2      </td><td>30.0              </td><td>19.89            </td><td>46.3              </td><td>19.2              </td><td>44.62666667      </td><td>19.79             </td><td>44.93333333      </td><td>18.92666667       </td><td>45.89            </td><td>17.16666667       </td><td>55.09            </td><td>6.56             </td><td>83.15666667       </td><td>17.2              </td><td>41.43333333       </td><td>18.2              </td><td>48.73            </td><td>17.0              </td><td>45.5             </td><td>6.37             </td><td>733.7            </td><td>92.0              </td><td>6.333333333       </td><td>55.33333333       </td><td>5.1              </td><td>28.64266817       </td><td>28.64266817       </td><td>50.0              </td></tr>\n",
              "<tr><td>3      </td><td>40.0              </td><td>19.89            </td><td>46.06666667       </td><td>19.2              </td><td>44.59            </td><td>19.79             </td><td>45.0             </td><td>18.89             </td><td>45.72333333      </td><td>17.16666667       </td><td>55.09            </td><td>6.433333333      </td><td>83.42333333       </td><td>17.13333333       </td><td>41.29             </td><td>18.1              </td><td>48.59            </td><td>17.0              </td><td>45.4             </td><td>6.25             </td><td>733.8            </td><td>92.0              </td><td>6.0               </td><td>51.5              </td><td>5.0              </td><td>45.4103895        </td><td>45.4103895        </td><td>50.0              </td></tr>\n",
              "<tr><td>4      </td><td>40.0              </td><td>19.89            </td><td>46.33333333       </td><td>19.2              </td><td>44.53            </td><td>19.79             </td><td>45.0             </td><td>18.89             </td><td>45.53            </td><td>17.2              </td><td>55.09            </td><td>6.366666667      </td><td>84.89333333       </td><td>17.2              </td><td>41.23             </td><td>18.1              </td><td>48.59            </td><td>17.0              </td><td>45.4             </td><td>6.13             </td><td>733.9            </td><td>92.0              </td><td>5.666666667       </td><td>47.66666667       </td><td>4.9              </td><td>10.08409655       </td><td>10.08409655       </td><td>60.0              </td></tr>\n",
              "<tr><td>5      </td><td>40.0              </td><td>19.89            </td><td>46.02666667       </td><td>19.2              </td><td>44.5             </td><td>19.79             </td><td>44.93333333      </td><td>18.89             </td><td>45.73            </td><td>17.13333333       </td><td>55.03            </td><td>6.3              </td><td>85.76666667       </td><td>17.13333333       </td><td>41.26             </td><td>18.1              </td><td>48.59            </td><td>17.0              </td><td>45.29            </td><td>6.02             </td><td>734.0            </td><td>92.0              </td><td>5.333333333       </td><td>43.83333333       </td><td>4.8              </td><td>44.91948425       </td><td>44.91948425       </td><td>50.0              </td></tr>\n",
              "<tr><td>6      </td><td>50.0              </td><td>19.89            </td><td>45.76666667       </td><td>19.2              </td><td>44.5             </td><td>19.79             </td><td>44.9             </td><td>18.89             </td><td>45.79            </td><td>17.1              </td><td>54.96666667      </td><td>6.263333333      </td><td>86.09             </td><td>17.13333333       </td><td>41.2              </td><td>18.1              </td><td>48.59            </td><td>17.0              </td><td>45.29            </td><td>5.9              </td><td>734.1            </td><td>92.0              </td><td>5.0               </td><td>40.0              </td><td>4.7              </td><td>47.23376343       </td><td>47.23376343       </td><td>60.0              </td></tr>\n",
              "<tr><td>7      </td><td>50.0              </td><td>19.85666667      </td><td>45.56             </td><td>19.2              </td><td>44.5             </td><td>19.73             </td><td>44.9             </td><td>18.89             </td><td>45.86333333      </td><td>17.1              </td><td>54.9             </td><td>6.19             </td><td>86.42333333       </td><td>17.1              </td><td>41.2              </td><td>18.1              </td><td>48.59            </td><td>17.0              </td><td>45.29            </td><td>5.92             </td><td>734.1666667      </td><td>91.83333333       </td><td>5.166666667       </td><td>40.0              </td><td>4.68             </td><td>33.03988962       </td><td>33.03988962       </td><td>60.0              </td></tr>\n",
              "<tr><td>8      </td><td>40.0              </td><td>19.79            </td><td>45.5975           </td><td>19.2              </td><td>44.43333333      </td><td>19.73             </td><td>44.79            </td><td>18.89             </td><td>45.79            </td><td>17.16666667       </td><td>55.0             </td><td>6.123333333      </td><td>87.22666667       </td><td>17.16666667       </td><td>41.4              </td><td>18.1              </td><td>48.59            </td><td>17.0              </td><td>45.29            </td><td>5.93             </td><td>734.2333333      </td><td>91.66666667       </td><td>5.333333333       </td><td>40.0              </td><td>4.67             </td><td>31.45570219       </td><td>31.45570219       </td><td>60.0              </td></tr>\n",
              "<tr><td>9      </td><td>40.0              </td><td>19.85666667      </td><td>46.09             </td><td>19.23             </td><td>44.4             </td><td>19.79             </td><td>44.86333333      </td><td>18.89             </td><td>46.09666667      </td><td>17.1              </td><td>55.0             </td><td>6.19             </td><td>87.62666667       </td><td>17.2              </td><td>41.5              </td><td>18.1              </td><td>48.59            </td><td>17.0              </td><td>45.29            </td><td>5.95             </td><td>734.3            </td><td>91.5              </td><td>5.5               </td><td>40.0              </td><td>4.65             </td><td>3.089313523       </td><td>3.089313523       </td><td>70.0              </td></tr>\n",
              "</tbody>\n",
              "</table>"
            ]
          },
          "metadata": {}
        }
      ]
    },
    {
      "cell_type": "code",
      "source": [
        "print(f'Size of training set: {df.shape[0]} rows and {df.shape[1]} columns')"
      ],
      "metadata": {
        "colab": {
          "base_uri": "https://localhost:8080/"
        },
        "id": "2AE4SgamPA9a",
        "outputId": "679340b1-9beb-4c7e-837e-8b43b2c95991"
      },
      "execution_count": 11,
      "outputs": [
        {
          "output_type": "stream",
          "name": "stdout",
          "text": [
            "Size of training set: 19735 rows and 28 columns\n"
          ]
        }
      ]
    },
    {
      "cell_type": "code",
      "source": [
        "#Splitting the dataset into train and test datasets\n",
        "splits = df.split_frame(ratios=[0.8],seed=1)\n",
        "train = splits[0]\n",
        "test = splits[1]"
      ],
      "metadata": {
        "id": "7JC1KTLkPEOG"
      },
      "execution_count": 12,
      "outputs": []
    },
    {
      "cell_type": "code",
      "source": [
        "#Specifying the Response and Predictor variables\n",
        "y = 'Appliances' \n",
        "x = df.columns \n",
        "x.remove(y)"
      ],
      "metadata": {
        "id": "sg4wReZlPE_0"
      },
      "execution_count": 13,
      "outputs": []
    },
    {
      "cell_type": "code",
      "source": [
        "#@title\n",
        "aml = H2OAutoML(max_models=10,seed=10,max_runtime_secs=720, verbosity=\"info\")        \n",
        "aml.train(x=x, y=y, training_frame=train)"
      ],
      "metadata": {
        "colab": {
          "base_uri": "https://localhost:8080/",
          "height": 1000
        },
        "id": "eOX2I1USPG89",
        "outputId": "919585ae-e645-4bb6-ae47-52118a00a21e"
      },
      "execution_count": 14,
      "outputs": [
        {
          "output_type": "stream",
          "name": "stdout",
          "text": [
            "AutoML progress: |\n",
            "02:17:04.768: Project: AutoML_1_20220805_21704\n",
            "02:17:04.770: 5-fold cross-validation will be used.\n",
            "02:17:04.771: Setting stopping tolerance adaptively based on the training frame: 0.00794176216279449\n",
            "02:17:04.771: Build control seed: 10\n",
            "02:17:04.774: training frame: Frame key: AutoML_1_20220805_21704_training_py_3_sid_90a6    cols: 28    rows: 15855  chunks: 8    size: 2292841  checksum: -5032527022466388615\n",
            "02:17:04.774: validation frame: NULL\n",
            "02:17:04.775: leaderboard frame: NULL\n",
            "02:17:04.775: blending frame: NULL\n",
            "02:17:04.775: response column: Appliances\n",
            "02:17:04.775: fold column: null\n",
            "02:17:04.776: weights column: null\n",
            "02:17:04.815: Loading execution steps: [{XGBoost : [def_2 (1g, 10w), def_1 (2g, 10w), def_3 (3g, 10w), grid_1 (4g, 90w), lr_search (7g, 30w)]}, {GLM : [def_1 (1g, 10w)]}, {DRF : [def_1 (2g, 10w), XRT (3g, 10w)]}, {GBM : [def_5 (1g, 10w), def_2 (2g, 10w), def_3 (2g, 10w), def_4 (2g, 10w), def_1 (3g, 10w), grid_1 (4g, 60w), lr_annealing (7g, 10w)]}, {DeepLearning : [def_1 (3g, 10w), grid_1 (4g, 30w), grid_2 (5g, 30w), grid_3 (5g, 30w)]}, {completion : [resume_best_grids (6g, 60w)]}, {StackedEnsemble : [monotonic (9g, 10w), best_of_family_xglm (10g, 10w), all_xglm (10g, 10w)]}]\n",
            "02:17:04.856: AutoML job created: 2022.08.05 02:17:04.732\n",
            "02:17:04.857: AutoML build started: 2022.08.05 02:17:04.857\n",
            "02:17:04.904: AutoML: starting XGBoost_1_AutoML_1_20220805_21704 model training\n",
            "\n",
            "██████\n",
            "02:17:59.687: New leader: XGBoost_1_AutoML_1_20220805_21704, rmse: 72.74473798876448\n",
            "02:17:59.706: AutoML: starting GLM_1_AutoML_1_20220805_21704 model training\n",
            "\n",
            "█\n",
            "02:18:06.727: AutoML: starting GBM_1_AutoML_1_20220805_21704 model training\n",
            "\n",
            "███████\n",
            "02:19:28.280: AutoML: starting XGBoost_2_AutoML_1_20220805_21704 model training\n",
            "\n",
            "██\n",
            "02:19:54.882: AutoML: starting DRF_1_AutoML_1_20220805_21704 model training\n",
            "\n",
            "████\n",
            "02:20:49.72: New leader: DRF_1_AutoML_1_20220805_21704, rmse: 69.07961379032943\n",
            "02:20:49.73: AutoML: starting GBM_2_AutoML_1_20220805_21704 model training\n",
            "\n",
            "████\n",
            "02:21:36.255: AutoML: starting GBM_3_AutoML_1_20220805_21704 model training\n",
            "\n",
            "████\n",
            "02:22:14.562: AutoML: starting GBM_4_AutoML_1_20220805_21704 model training\n",
            "\n",
            "███\n",
            "02:22:51.57: AutoML: starting XGBoost_3_AutoML_1_20220805_21704 model training\n",
            "\n",
            "███\n",
            "02:23:26.50: AutoML: starting XRT_1_AutoML_1_20220805_21704 model training\n",
            "\n",
            "█████\n",
            "02:24:32.782: New leader: XRT_1_AutoML_1_20220805_21704, rmse: 69.07397357649288\n",
            "02:24:32.785: No base models, due to timeouts or the exclude_algos option. Skipping StackedEnsemble 'monotonic'.\n",
            "02:24:32.823: AutoML: starting StackedEnsemble_BestOfFamily_1_AutoML_1_20220805_21704 model training\n",
            "\n",
            "█\n",
            "02:24:36.624: New leader: StackedEnsemble_BestOfFamily_1_AutoML_1_20220805_21704, rmse: 67.75729963760783\n",
            "02:24:36.632: AutoML: starting StackedEnsemble_AllModels_1_AutoML_1_20220805_21704 model training\n",
            "\n",
            "\n",
            "02:24:39.317: New leader: StackedEnsemble_AllModels_1_AutoML_1_20220805_21704, rmse: 67.46285118208758\n",
            "02:24:39.317: Actual modeling steps: [{XGBoost : [def_2 (1g, 10w)]}, {GLM : [def_1 (1g, 10w)]}, {GBM : [def_5 (1g, 10w)]}, {XGBoost : [def_1 (2g, 10w)]}, {DRF : [def_1 (2g, 10w)]}, {GBM : [def_2 (2g, 10w), def_3 (2g, 10w), def_4 (2g, 10w)]}, {XGBoost : [def_3 (3g, 10w)]}, {DRF : [XRT (3g, 10w)]}, {StackedEnsemble : [best_of_family_xglm (10g, 10w), all_xglm (10g, 10w)]}]\n",
            "02:24:39.318: AutoML build stopped: 2022.08.05 02:24:39.317\n",
            "02:24:39.318: AutoML build done: built 10 models\n",
            "02:24:39.318: AutoML duration:  7 min 34.460 sec\n",
            "\n",
            "███████████████████████| (done) 100%\n",
            "Model Details\n",
            "=============\n",
            "H2OStackedEnsembleEstimator :  Stacked Ensemble\n",
            "Model Key:  StackedEnsemble_AllModels_1_AutoML_1_20220805_21704\n",
            "\n",
            "No model summary for this model\n",
            "\n",
            "ModelMetricsRegressionGLM: stackedensemble\n",
            "** Reported on train data. **\n",
            "\n",
            "MSE: 527.7096911001296\n",
            "RMSE: 22.971932680994204\n",
            "MAE: 13.033932079405568\n",
            "RMSLE: 0.18566470424806578\n",
            "R^2: 0.9491299954677391\n",
            "Mean Residual Deviance: 527.7096911001296\n",
            "Null degrees of freedom: 10022\n",
            "Residual degrees of freedom: 10017\n",
            "Null deviance: 103978496.8974401\n",
            "Residual deviance: 5289234.233896599\n",
            "AIC: 91287.68145197502\n",
            "\n",
            "ModelMetricsRegressionGLM: stackedensemble\n",
            "** Reported on cross-validation data. **\n",
            "\n",
            "MSE: 4551.236289616495\n",
            "RMSE: 67.46285118208758\n",
            "MAE: 32.7514705785048\n",
            "RMSLE: 0.3926113346822482\n",
            "R^2: 0.561297338988975\n",
            "Mean Residual Deviance: 4551.236289616495\n",
            "Null degrees of freedom: 15854\n",
            "Residual degrees of freedom: 15849\n",
            "Null deviance: 164493311.0960292\n",
            "Residual deviance: 72159851.37186953\n",
            "AIC: 178557.65052346472\n",
            "\n",
            "Cross-Validation Metrics Summary: \n"
          ]
        },
        {
          "output_type": "display_data",
          "data": {
            "text/plain": [
              "                                   mean            sd    cv_1_valid  \\\n",
              "0                     mae  3.273680e+01  1.119903e+00  3.163240e+01   \n",
              "1  mean_residual_deviance  4.554674e+03  4.394971e+02  4.215713e+03   \n",
              "2                     mse  4.554674e+03  4.394971e+02  4.215713e+03   \n",
              "3           null_deviance  3.289866e+07  1.644046e+06  3.134648e+07   \n",
              "4                      r2  5.618083e-01  1.780390e-02  5.698186e-01   \n",
              "5       residual_deviance  1.442941e+07  1.209516e+06  1.347764e+07   \n",
              "6                    rmse  6.742784e+01  3.193701e+00  6.492852e+01   \n",
              "7                   rmsle  3.923363e-01  9.117298e-03  3.917854e-01   \n",
              "\n",
              "     cv_2_valid    cv_3_valid    cv_4_valid    cv_5_valid  \n",
              "0  3.207299e+01  3.344030e+01  3.219800e+01  3.434029e+01  \n",
              "1  4.215392e+03  4.619903e+03  4.442565e+03  5.279795e+03  \n",
              "2  4.215392e+03  4.619903e+03  4.442565e+03  5.279795e+03  \n",
              "3  3.244519e+07  3.313144e+07  3.197252e+07  3.559768e+07  \n",
              "4  5.876204e-01  5.496027e-01  5.597998e-01  5.422003e-01  \n",
              "5  1.337965e+07  1.492229e+07  1.407405e+07  1.629345e+07  \n",
              "6  6.492605e+01  6.796987e+01  6.665257e+01  7.266220e+01  \n",
              "7  3.782855e-01  4.007943e-01  3.906985e-01  4.001177e-01  "
            ],
            "text/html": [
              "\n",
              "  <div id=\"df-fc3cb5c1-0d8a-46e0-b80c-20dc6cf0e663\">\n",
              "    <div class=\"colab-df-container\">\n",
              "      <div>\n",
              "<style scoped>\n",
              "    .dataframe tbody tr th:only-of-type {\n",
              "        vertical-align: middle;\n",
              "    }\n",
              "\n",
              "    .dataframe tbody tr th {\n",
              "        vertical-align: top;\n",
              "    }\n",
              "\n",
              "    .dataframe thead th {\n",
              "        text-align: right;\n",
              "    }\n",
              "</style>\n",
              "<table border=\"1\" class=\"dataframe\">\n",
              "  <thead>\n",
              "    <tr style=\"text-align: right;\">\n",
              "      <th></th>\n",
              "      <th></th>\n",
              "      <th>mean</th>\n",
              "      <th>sd</th>\n",
              "      <th>cv_1_valid</th>\n",
              "      <th>cv_2_valid</th>\n",
              "      <th>cv_3_valid</th>\n",
              "      <th>cv_4_valid</th>\n",
              "      <th>cv_5_valid</th>\n",
              "    </tr>\n",
              "  </thead>\n",
              "  <tbody>\n",
              "    <tr>\n",
              "      <th>0</th>\n",
              "      <td>mae</td>\n",
              "      <td>3.273680e+01</td>\n",
              "      <td>1.119903e+00</td>\n",
              "      <td>3.163240e+01</td>\n",
              "      <td>3.207299e+01</td>\n",
              "      <td>3.344030e+01</td>\n",
              "      <td>3.219800e+01</td>\n",
              "      <td>3.434029e+01</td>\n",
              "    </tr>\n",
              "    <tr>\n",
              "      <th>1</th>\n",
              "      <td>mean_residual_deviance</td>\n",
              "      <td>4.554674e+03</td>\n",
              "      <td>4.394971e+02</td>\n",
              "      <td>4.215713e+03</td>\n",
              "      <td>4.215392e+03</td>\n",
              "      <td>4.619903e+03</td>\n",
              "      <td>4.442565e+03</td>\n",
              "      <td>5.279795e+03</td>\n",
              "    </tr>\n",
              "    <tr>\n",
              "      <th>2</th>\n",
              "      <td>mse</td>\n",
              "      <td>4.554674e+03</td>\n",
              "      <td>4.394971e+02</td>\n",
              "      <td>4.215713e+03</td>\n",
              "      <td>4.215392e+03</td>\n",
              "      <td>4.619903e+03</td>\n",
              "      <td>4.442565e+03</td>\n",
              "      <td>5.279795e+03</td>\n",
              "    </tr>\n",
              "    <tr>\n",
              "      <th>3</th>\n",
              "      <td>null_deviance</td>\n",
              "      <td>3.289866e+07</td>\n",
              "      <td>1.644046e+06</td>\n",
              "      <td>3.134648e+07</td>\n",
              "      <td>3.244519e+07</td>\n",
              "      <td>3.313144e+07</td>\n",
              "      <td>3.197252e+07</td>\n",
              "      <td>3.559768e+07</td>\n",
              "    </tr>\n",
              "    <tr>\n",
              "      <th>4</th>\n",
              "      <td>r2</td>\n",
              "      <td>5.618083e-01</td>\n",
              "      <td>1.780390e-02</td>\n",
              "      <td>5.698186e-01</td>\n",
              "      <td>5.876204e-01</td>\n",
              "      <td>5.496027e-01</td>\n",
              "      <td>5.597998e-01</td>\n",
              "      <td>5.422003e-01</td>\n",
              "    </tr>\n",
              "    <tr>\n",
              "      <th>5</th>\n",
              "      <td>residual_deviance</td>\n",
              "      <td>1.442941e+07</td>\n",
              "      <td>1.209516e+06</td>\n",
              "      <td>1.347764e+07</td>\n",
              "      <td>1.337965e+07</td>\n",
              "      <td>1.492229e+07</td>\n",
              "      <td>1.407405e+07</td>\n",
              "      <td>1.629345e+07</td>\n",
              "    </tr>\n",
              "    <tr>\n",
              "      <th>6</th>\n",
              "      <td>rmse</td>\n",
              "      <td>6.742784e+01</td>\n",
              "      <td>3.193701e+00</td>\n",
              "      <td>6.492852e+01</td>\n",
              "      <td>6.492605e+01</td>\n",
              "      <td>6.796987e+01</td>\n",
              "      <td>6.665257e+01</td>\n",
              "      <td>7.266220e+01</td>\n",
              "    </tr>\n",
              "    <tr>\n",
              "      <th>7</th>\n",
              "      <td>rmsle</td>\n",
              "      <td>3.923363e-01</td>\n",
              "      <td>9.117298e-03</td>\n",
              "      <td>3.917854e-01</td>\n",
              "      <td>3.782855e-01</td>\n",
              "      <td>4.007943e-01</td>\n",
              "      <td>3.906985e-01</td>\n",
              "      <td>4.001177e-01</td>\n",
              "    </tr>\n",
              "  </tbody>\n",
              "</table>\n",
              "</div>\n",
              "      <button class=\"colab-df-convert\" onclick=\"convertToInteractive('df-fc3cb5c1-0d8a-46e0-b80c-20dc6cf0e663')\"\n",
              "              title=\"Convert this dataframe to an interactive table.\"\n",
              "              style=\"display:none;\">\n",
              "        \n",
              "  <svg xmlns=\"http://www.w3.org/2000/svg\" height=\"24px\"viewBox=\"0 0 24 24\"\n",
              "       width=\"24px\">\n",
              "    <path d=\"M0 0h24v24H0V0z\" fill=\"none\"/>\n",
              "    <path d=\"M18.56 5.44l.94 2.06.94-2.06 2.06-.94-2.06-.94-.94-2.06-.94 2.06-2.06.94zm-11 1L8.5 8.5l.94-2.06 2.06-.94-2.06-.94L8.5 2.5l-.94 2.06-2.06.94zm10 10l.94 2.06.94-2.06 2.06-.94-2.06-.94-.94-2.06-.94 2.06-2.06.94z\"/><path d=\"M17.41 7.96l-1.37-1.37c-.4-.4-.92-.59-1.43-.59-.52 0-1.04.2-1.43.59L10.3 9.45l-7.72 7.72c-.78.78-.78 2.05 0 2.83L4 21.41c.39.39.9.59 1.41.59.51 0 1.02-.2 1.41-.59l7.78-7.78 2.81-2.81c.8-.78.8-2.07 0-2.86zM5.41 20L4 18.59l7.72-7.72 1.47 1.35L5.41 20z\"/>\n",
              "  </svg>\n",
              "      </button>\n",
              "      \n",
              "  <style>\n",
              "    .colab-df-container {\n",
              "      display:flex;\n",
              "      flex-wrap:wrap;\n",
              "      gap: 12px;\n",
              "    }\n",
              "\n",
              "    .colab-df-convert {\n",
              "      background-color: #E8F0FE;\n",
              "      border: none;\n",
              "      border-radius: 50%;\n",
              "      cursor: pointer;\n",
              "      display: none;\n",
              "      fill: #1967D2;\n",
              "      height: 32px;\n",
              "      padding: 0 0 0 0;\n",
              "      width: 32px;\n",
              "    }\n",
              "\n",
              "    .colab-df-convert:hover {\n",
              "      background-color: #E2EBFA;\n",
              "      box-shadow: 0px 1px 2px rgba(60, 64, 67, 0.3), 0px 1px 3px 1px rgba(60, 64, 67, 0.15);\n",
              "      fill: #174EA6;\n",
              "    }\n",
              "\n",
              "    [theme=dark] .colab-df-convert {\n",
              "      background-color: #3B4455;\n",
              "      fill: #D2E3FC;\n",
              "    }\n",
              "\n",
              "    [theme=dark] .colab-df-convert:hover {\n",
              "      background-color: #434B5C;\n",
              "      box-shadow: 0px 1px 3px 1px rgba(0, 0, 0, 0.15);\n",
              "      filter: drop-shadow(0px 1px 2px rgba(0, 0, 0, 0.3));\n",
              "      fill: #FFFFFF;\n",
              "    }\n",
              "  </style>\n",
              "\n",
              "      <script>\n",
              "        const buttonEl =\n",
              "          document.querySelector('#df-fc3cb5c1-0d8a-46e0-b80c-20dc6cf0e663 button.colab-df-convert');\n",
              "        buttonEl.style.display =\n",
              "          google.colab.kernel.accessAllowed ? 'block' : 'none';\n",
              "\n",
              "        async function convertToInteractive(key) {\n",
              "          const element = document.querySelector('#df-fc3cb5c1-0d8a-46e0-b80c-20dc6cf0e663');\n",
              "          const dataTable =\n",
              "            await google.colab.kernel.invokeFunction('convertToInteractive',\n",
              "                                                     [key], {});\n",
              "          if (!dataTable) return;\n",
              "\n",
              "          const docLinkHtml = 'Like what you see? Visit the ' +\n",
              "            '<a target=\"_blank\" href=https://colab.research.google.com/notebooks/data_table.ipynb>data table notebook</a>'\n",
              "            + ' to learn more about interactive tables.';\n",
              "          element.innerHTML = '';\n",
              "          dataTable['output_type'] = 'display_data';\n",
              "          await google.colab.output.renderOutput(dataTable, element);\n",
              "          const docLink = document.createElement('div');\n",
              "          docLink.innerHTML = docLinkHtml;\n",
              "          element.appendChild(docLink);\n",
              "        }\n",
              "      </script>\n",
              "    </div>\n",
              "  </div>\n",
              "  "
            ]
          },
          "metadata": {}
        },
        {
          "output_type": "execute_result",
          "data": {
            "text/plain": [
              ""
            ]
          },
          "metadata": {},
          "execution_count": 14
        }
      ]
    },
    {
      "cell_type": "code",
      "source": [
        "lb = aml.leaderboard\n",
        "lb.head()"
      ],
      "metadata": {
        "colab": {
          "base_uri": "https://localhost:8080/",
          "height": 254
        },
        "id": "boN6p0M7PJEh",
        "outputId": "0ca45647-bfda-4fec-968e-bf10896f80c5"
      },
      "execution_count": 15,
      "outputs": [
        {
          "output_type": "display_data",
          "data": {
            "text/html": [
              "<table>\n",
              "<thead>\n",
              "<tr><th>model_id                                              </th><th style=\"text-align: right;\">   rmse</th><th style=\"text-align: right;\">    mse</th><th style=\"text-align: right;\">    mae</th><th style=\"text-align: right;\">     rmsle</th><th style=\"text-align: right;\">  mean_residual_deviance</th></tr>\n",
              "</thead>\n",
              "<tbody>\n",
              "<tr><td>StackedEnsemble_AllModels_1_AutoML_1_20220805_21704   </td><td style=\"text-align: right;\">67.4629</td><td style=\"text-align: right;\">4551.24</td><td style=\"text-align: right;\">32.7515</td><td style=\"text-align: right;\">  0.392611</td><td style=\"text-align: right;\">                 4551.24</td></tr>\n",
              "<tr><td>StackedEnsemble_BestOfFamily_1_AutoML_1_20220805_21704</td><td style=\"text-align: right;\">67.7573</td><td style=\"text-align: right;\">4591.05</td><td style=\"text-align: right;\">32.791 </td><td style=\"text-align: right;\">  0.393501</td><td style=\"text-align: right;\">                 4591.05</td></tr>\n",
              "<tr><td>XRT_1_AutoML_1_20220805_21704                         </td><td style=\"text-align: right;\">69.074 </td><td style=\"text-align: right;\">4771.21</td><td style=\"text-align: right;\">33.2012</td><td style=\"text-align: right;\">  0.400312</td><td style=\"text-align: right;\">                 4771.21</td></tr>\n",
              "<tr><td>DRF_1_AutoML_1_20220805_21704                         </td><td style=\"text-align: right;\">69.0796</td><td style=\"text-align: right;\">4771.99</td><td style=\"text-align: right;\">32.9707</td><td style=\"text-align: right;\">  0.396736</td><td style=\"text-align: right;\">                 4771.99</td></tr>\n",
              "<tr><td>GBM_4_AutoML_1_20220805_21704                         </td><td style=\"text-align: right;\">71.1017</td><td style=\"text-align: right;\">5055.45</td><td style=\"text-align: right;\">35.2253</td><td style=\"text-align: right;\">  0.420037</td><td style=\"text-align: right;\">                 5055.45</td></tr>\n",
              "<tr><td>GBM_2_AutoML_1_20220805_21704                         </td><td style=\"text-align: right;\">71.8528</td><td style=\"text-align: right;\">5162.83</td><td style=\"text-align: right;\">36.1538</td><td style=\"text-align: right;\">  0.430885</td><td style=\"text-align: right;\">                 5162.83</td></tr>\n",
              "<tr><td>GBM_3_AutoML_1_20220805_21704                         </td><td style=\"text-align: right;\">72.1668</td><td style=\"text-align: right;\">5208.05</td><td style=\"text-align: right;\">36.0204</td><td style=\"text-align: right;\">  0.427092</td><td style=\"text-align: right;\">                 5208.05</td></tr>\n",
              "<tr><td>XGBoost_1_AutoML_1_20220805_21704                     </td><td style=\"text-align: right;\">72.7447</td><td style=\"text-align: right;\">5291.8 </td><td style=\"text-align: right;\">40.171 </td><td style=\"text-align: right;\">nan       </td><td style=\"text-align: right;\">                 5291.8 </td></tr>\n",
              "<tr><td>GBM_1_AutoML_1_20220805_21704                         </td><td style=\"text-align: right;\">72.8684</td><td style=\"text-align: right;\">5309.81</td><td style=\"text-align: right;\">38.026 </td><td style=\"text-align: right;\">nan       </td><td style=\"text-align: right;\">                 5309.81</td></tr>\n",
              "<tr><td>XGBoost_2_AutoML_1_20220805_21704                     </td><td style=\"text-align: right;\">73.3595</td><td style=\"text-align: right;\">5381.61</td><td style=\"text-align: right;\">39.2517</td><td style=\"text-align: right;\">nan       </td><td style=\"text-align: right;\">                 5381.61</td></tr>\n",
              "</tbody>\n",
              "</table>"
            ]
          },
          "metadata": {}
        },
        {
          "output_type": "execute_result",
          "data": {
            "text/plain": [
              ""
            ]
          },
          "metadata": {},
          "execution_count": 15
        }
      ]
    },
    {
      "cell_type": "code",
      "source": [
        "# Get model ids for all models in the AutoML Leaderboard\n",
        "model_ids = list(aml.leaderboard['model_id'].as_data_frame().iloc[:,0])"
      ],
      "metadata": {
        "id": "2rbeOMwlPN6K"
      },
      "execution_count": 16,
      "outputs": []
    },
    {
      "cell_type": "code",
      "source": [
        "model_ids "
      ],
      "metadata": {
        "colab": {
          "base_uri": "https://localhost:8080/"
        },
        "id": "5k0k2itnPOiy",
        "outputId": "ac404bd4-b1aa-4fdc-b73c-5bb94afc574f"
      },
      "execution_count": 17,
      "outputs": [
        {
          "output_type": "execute_result",
          "data": {
            "text/plain": [
              "['StackedEnsemble_AllModels_1_AutoML_1_20220805_21704',\n",
              " 'StackedEnsemble_BestOfFamily_1_AutoML_1_20220805_21704',\n",
              " 'XRT_1_AutoML_1_20220805_21704',\n",
              " 'DRF_1_AutoML_1_20220805_21704',\n",
              " 'GBM_4_AutoML_1_20220805_21704',\n",
              " 'GBM_2_AutoML_1_20220805_21704',\n",
              " 'GBM_3_AutoML_1_20220805_21704',\n",
              " 'XGBoost_1_AutoML_1_20220805_21704',\n",
              " 'GBM_1_AutoML_1_20220805_21704',\n",
              " 'XGBoost_2_AutoML_1_20220805_21704',\n",
              " 'XGBoost_3_AutoML_1_20220805_21704',\n",
              " 'GLM_1_AutoML_1_20220805_21704']"
            ]
          },
          "metadata": {},
          "execution_count": 17
        }
      ]
    },
    {
      "cell_type": "code",
      "source": [
        "# Get the \"All Models\" StackedEnsemble model\n",
        "SE= h2o.get_model([mid for mid in model_ids if \"StackedEnsemble\" in mid][0])"
      ],
      "metadata": {
        "id": "VgFFnkRbPQy6"
      },
      "execution_count": 18,
      "outputs": []
    },
    {
      "cell_type": "code",
      "source": [
        "# Get the Stacked Ensemble metalearner model\n",
        "metalearner = h2o.get_model(SE.metalearner()['name'])"
      ],
      "metadata": {
        "colab": {
          "base_uri": "https://localhost:8080/"
        },
        "id": "sfz7SKYPPTuB",
        "outputId": "af7b63b9-dedf-4549-e0fa-91aecb427606"
      },
      "execution_count": 19,
      "outputs": [
        {
          "output_type": "stream",
          "name": "stderr",
          "text": [
            "/usr/local/lib/python3.7/dist-packages/h2o/estimators/stackedensemble.py:929: H2ODeprecationWarning: The usage of stacked_ensemble.metalearner()['name'] will be deprecated. Metalearner now returns the metalearner object. If you need to get the 'name' please use stacked_ensemble.metalearner().model_id\n",
            "  H2ODeprecationWarning\n"
          ]
        }
      ]
    },
    {
      "cell_type": "code",
      "source": [
        "%matplotlib inline\n",
        "metalearner.std_coef_plot()   "
      ],
      "metadata": {
        "colab": {
          "base_uri": "https://localhost:8080/",
          "height": 629
        },
        "id": "YiwM_DltPWxq",
        "outputId": "6681b6ff-f527-40b3-d761-e112533543dd"
      },
      "execution_count": 20,
      "outputs": [
        {
          "output_type": "execute_result",
          "data": {
            "text/plain": [
              "<h2o.plot._plot_result._MObject at 0x7f9978fcd250>"
            ]
          },
          "metadata": {},
          "execution_count": 20
        },
        {
          "output_type": "display_data",
          "data": {
            "text/plain": [
              "<Figure size 1008x720 with 1 Axes>"
            ],
            "image/png": "[encoded data removed]"
          },
          "metadata": {
            "needs_background": "light"
          }
        }
      ]
    },
    {
      "cell_type": "code",
      "source": [
        "SE.params"
      ],
      "metadata": {
        "colab": {
          "base_uri": "https://localhost:8080/"
        },
        "id": "-37TOEtpPY6z",
        "outputId": "085c6826-e442-47fa-9bce-7e2fa4401f6e"
      },
      "execution_count": 21,
      "outputs": [
        {
          "output_type": "execute_result",
          "data": {
            "text/plain": [
              "{'auc_type': {'actual': 'AUTO', 'default': 'AUTO', 'input': 'AUTO'},\n",
              " 'base_models': {'actual': [{'URL': None,\n",
              "    '__meta': {'schema_name': 'KeyV3',\n",
              "     'schema_type': 'Key<Keyed>',\n",
              "     'schema_version': 3},\n",
              "    'name': 'XRT_1_AutoML_1_20220805_21704',\n",
              "    'type': 'Key<Keyed>'},\n",
              "   {'URL': None,\n",
              "    '__meta': {'schema_name': 'KeyV3',\n",
              "     'schema_type': 'Key<Keyed>',\n",
              "     'schema_version': 3},\n",
              "    'name': 'DRF_1_AutoML_1_20220805_21704',\n",
              "    'type': 'Key<Keyed>'},\n",
              "   {'URL': None,\n",
              "    '__meta': {'schema_name': 'KeyV3',\n",
              "     'schema_type': 'Key<Keyed>',\n",
              "     'schema_version': 3},\n",
              "    'name': 'GBM_4_AutoML_1_20220805_21704',\n",
              "    'type': 'Key<Keyed>'},\n",
              "   {'URL': None,\n",
              "    '__meta': {'schema_name': 'KeyV3',\n",
              "     'schema_type': 'Key<Keyed>',\n",
              "     'schema_version': 3},\n",
              "    'name': 'GBM_2_AutoML_1_20220805_21704',\n",
              "    'type': 'Key<Keyed>'},\n",
              "   {'URL': None,\n",
              "    '__meta': {'schema_name': 'KeyV3',\n",
              "     'schema_type': 'Key<Keyed>',\n",
              "     'schema_version': 3},\n",
              "    'name': 'GBM_3_AutoML_1_20220805_21704',\n",
              "    'type': 'Key<Keyed>'},\n",
              "   {'URL': None,\n",
              "    '__meta': {'schema_name': 'KeyV3',\n",
              "     'schema_type': 'Key<Keyed>',\n",
              "     'schema_version': 3},\n",
              "    'name': 'XGBoost_1_AutoML_1_20220805_21704',\n",
              "    'type': 'Key<Keyed>'},\n",
              "   {'URL': None,\n",
              "    '__meta': {'schema_name': 'KeyV3',\n",
              "     'schema_type': 'Key<Keyed>',\n",
              "     'schema_version': 3},\n",
              "    'name': 'GBM_1_AutoML_1_20220805_21704',\n",
              "    'type': 'Key<Keyed>'},\n",
              "   {'URL': None,\n",
              "    '__meta': {'schema_name': 'KeyV3',\n",
              "     'schema_type': 'Key<Keyed>',\n",
              "     'schema_version': 3},\n",
              "    'name': 'XGBoost_2_AutoML_1_20220805_21704',\n",
              "    'type': 'Key<Keyed>'},\n",
              "   {'URL': None,\n",
              "    '__meta': {'schema_name': 'KeyV3',\n",
              "     'schema_type': 'Key<Keyed>',\n",
              "     'schema_version': 3},\n",
              "    'name': 'XGBoost_3_AutoML_1_20220805_21704',\n",
              "    'type': 'Key<Keyed>'},\n",
              "   {'URL': None,\n",
              "    '__meta': {'schema_name': 'KeyV3',\n",
              "     'schema_type': 'Key<Keyed>',\n",
              "     'schema_version': 3},\n",
              "    'name': 'GLM_1_AutoML_1_20220805_21704',\n",
              "    'type': 'Key<Keyed>'}],\n",
              "  'default': [],\n",
              "  'input': [{'URL': None,\n",
              "    '__meta': {'schema_name': 'KeyV3',\n",
              "     'schema_type': 'Key<Keyed>',\n",
              "     'schema_version': 3},\n",
              "    'name': 'XRT_1_AutoML_1_20220805_21704',\n",
              "    'type': 'Key<Keyed>'},\n",
              "   {'URL': None,\n",
              "    '__meta': {'schema_name': 'KeyV3',\n",
              "     'schema_type': 'Key<Keyed>',\n",
              "     'schema_version': 3},\n",
              "    'name': 'DRF_1_AutoML_1_20220805_21704',\n",
              "    'type': 'Key<Keyed>'},\n",
              "   {'URL': None,\n",
              "    '__meta': {'schema_name': 'KeyV3',\n",
              "     'schema_type': 'Key<Keyed>',\n",
              "     'schema_version': 3},\n",
              "    'name': 'GBM_4_AutoML_1_20220805_21704',\n",
              "    'type': 'Key<Keyed>'},\n",
              "   {'URL': None,\n",
              "    '__meta': {'schema_name': 'KeyV3',\n",
              "     'schema_type': 'Key<Keyed>',\n",
              "     'schema_version': 3},\n",
              "    'name': 'GBM_2_AutoML_1_20220805_21704',\n",
              "    'type': 'Key<Keyed>'},\n",
              "   {'URL': None,\n",
              "    '__meta': {'schema_name': 'KeyV3',\n",
              "     'schema_type': 'Key<Keyed>',\n",
              "     'schema_version': 3},\n",
              "    'name': 'GBM_3_AutoML_1_20220805_21704',\n",
              "    'type': 'Key<Keyed>'},\n",
              "   {'URL': None,\n",
              "    '__meta': {'schema_name': 'KeyV3',\n",
              "     'schema_type': 'Key<Keyed>',\n",
              "     'schema_version': 3},\n",
              "    'name': 'XGBoost_1_AutoML_1_20220805_21704',\n",
              "    'type': 'Key<Keyed>'},\n",
              "   {'URL': None,\n",
              "    '__meta': {'schema_name': 'KeyV3',\n",
              "     'schema_type': 'Key<Keyed>',\n",
              "     'schema_version': 3},\n",
              "    'name': 'GBM_1_AutoML_1_20220805_21704',\n",
              "    'type': 'Key<Keyed>'},\n",
              "   {'URL': None,\n",
              "    '__meta': {'schema_name': 'KeyV3',\n",
              "     'schema_type': 'Key<Keyed>',\n",
              "     'schema_version': 3},\n",
              "    'name': 'XGBoost_2_AutoML_1_20220805_21704',\n",
              "    'type': 'Key<Keyed>'},\n",
              "   {'URL': None,\n",
              "    '__meta': {'schema_name': 'KeyV3',\n",
              "     'schema_type': 'Key<Keyed>',\n",
              "     'schema_version': 3},\n",
              "    'name': 'XGBoost_3_AutoML_1_20220805_21704',\n",
              "    'type': 'Key<Keyed>'},\n",
              "   {'URL': None,\n",
              "    '__meta': {'schema_name': 'KeyV3',\n",
              "     'schema_type': 'Key<Keyed>',\n",
              "     'schema_version': 3},\n",
              "    'name': 'GLM_1_AutoML_1_20220805_21704',\n",
              "    'type': 'Key<Keyed>'}]},\n",
              " 'blending_frame': {'actual': None, 'default': None, 'input': None},\n",
              " 'export_checkpoints_dir': {'actual': None, 'default': None, 'input': None},\n",
              " 'keep_levelone_frame': {'actual': True, 'default': False, 'input': True},\n",
              " 'max_runtime_secs': {'actual': 0.0, 'default': 0.0, 'input': 0.0},\n",
              " 'metalearner_algorithm': {'actual': 'glm',\n",
              "  'default': 'AUTO',\n",
              "  'input': 'AUTO'},\n",
              " 'metalearner_fold_assignment': {'actual': None,\n",
              "  'default': None,\n",
              "  'input': None},\n",
              " 'metalearner_fold_column': {'actual': None, 'default': None, 'input': None},\n",
              " 'metalearner_nfolds': {'actual': 5, 'default': 0, 'input': 5},\n",
              " 'metalearner_params': {'actual': '', 'default': '', 'input': ''},\n",
              " 'metalearner_transform': {'actual': 'NONE',\n",
              "  'default': 'NONE',\n",
              "  'input': 'NONE'},\n",
              " 'model_id': {'actual': {'URL': '/3/Models/StackedEnsemble_AllModels_1_AutoML_1_20220805_21704',\n",
              "   '__meta': {'schema_name': 'ModelKeyV3',\n",
              "    'schema_type': 'Key<Model>',\n",
              "    'schema_version': 3},\n",
              "   'name': 'StackedEnsemble_AllModels_1_AutoML_1_20220805_21704',\n",
              "   'type': 'Key<Model>'},\n",
              "  'default': None,\n",
              "  'input': None},\n",
              " 'offset_column': {'actual': None, 'default': None, 'input': None},\n",
              " 'response_column': {'actual': {'__meta': {'schema_name': 'ColSpecifierV3',\n",
              "    'schema_type': 'VecSpecifier',\n",
              "    'schema_version': 3},\n",
              "   'column_name': 'Appliances',\n",
              "   'is_member_of_frames': None},\n",
              "  'default': None,\n",
              "  'input': {'__meta': {'schema_name': 'ColSpecifierV3',\n",
              "    'schema_type': 'VecSpecifier',\n",
              "    'schema_version': 3},\n",
              "   'column_name': 'Appliances',\n",
              "   'is_member_of_frames': None}},\n",
              " 'score_training_samples': {'actual': 10000, 'default': 10000, 'input': 10000},\n",
              " 'seed': {'actual': 21, 'default': -1, 'input': 21},\n",
              " 'training_frame': {'actual': {'URL': '/3/Frames/AutoML_1_20220805_21704_training_py_3_sid_90a6',\n",
              "   '__meta': {'schema_name': 'FrameKeyV3',\n",
              "    'schema_type': 'Key<Frame>',\n",
              "    'schema_version': 3},\n",
              "   'name': 'AutoML_1_20220805_21704_training_py_3_sid_90a6',\n",
              "   'type': 'Key<Frame>'},\n",
              "  'default': None,\n",
              "  'input': {'URL': '/3/Frames/AutoML_1_20220805_21704_training_py_3_sid_90a6',\n",
              "   '__meta': {'schema_name': 'FrameKeyV3',\n",
              "    'schema_type': 'Key<Frame>',\n",
              "    'schema_version': 3},\n",
              "   'name': 'AutoML_1_20220805_21704_training_py_3_sid_90a6',\n",
              "   'type': 'Key<Frame>'}},\n",
              " 'validation_frame': {'actual': None, 'default': None, 'input': None},\n",
              " 'weights_column': {'actual': None, 'default': None, 'input': None}}"
            ]
          },
          "metadata": {},
          "execution_count": 21
        }
      ]
    },
    {
      "cell_type": "code",
      "source": [
        "SE"
      ],
      "metadata": {
        "colab": {
          "base_uri": "https://localhost:8080/",
          "height": 960
        },
        "id": "VEJm01PGPbQa",
        "outputId": "07dc2304-281a-41a1-eafa-090ce6ee3b05"
      },
      "execution_count": 22,
      "outputs": [
        {
          "output_type": "stream",
          "name": "stdout",
          "text": [
            "Model Details\n",
            "=============\n",
            "H2OStackedEnsembleEstimator :  Stacked Ensemble\n",
            "Model Key:  StackedEnsemble_AllModels_1_AutoML_1_20220805_21704\n",
            "\n",
            "No model summary for this model\n",
            "\n",
            "ModelMetricsRegressionGLM: stackedensemble\n",
            "** Reported on train data. **\n",
            "\n",
            "MSE: 527.7096911001296\n",
            "RMSE: 22.971932680994204\n",
            "MAE: 13.033932079405568\n",
            "RMSLE: 0.18566470424806578\n",
            "R^2: 0.9491299954677391\n",
            "Mean Residual Deviance: 527.7096911001296\n",
            "Null degrees of freedom: 10022\n",
            "Residual degrees of freedom: 10017\n",
            "Null deviance: 103978496.8974401\n",
            "Residual deviance: 5289234.233896599\n",
            "AIC: 91287.68145197502\n",
            "\n",
            "ModelMetricsRegressionGLM: stackedensemble\n",
            "** Reported on cross-validation data. **\n",
            "\n",
            "MSE: 4551.236289616495\n",
            "RMSE: 67.46285118208758\n",
            "MAE: 32.7514705785048\n",
            "RMSLE: 0.3926113346822482\n",
            "R^2: 0.561297338988975\n",
            "Mean Residual Deviance: 4551.236289616495\n",
            "Null degrees of freedom: 15854\n",
            "Residual degrees of freedom: 15849\n",
            "Null deviance: 164493311.0960292\n",
            "Residual deviance: 72159851.37186953\n",
            "AIC: 178557.65052346472\n",
            "\n",
            "Cross-Validation Metrics Summary: \n"
          ]
        },
        {
          "output_type": "display_data",
          "data": {
            "text/plain": [
              "                                   mean            sd    cv_1_valid  \\\n",
              "0                     mae  3.273680e+01  1.119903e+00  3.163240e+01   \n",
              "1  mean_residual_deviance  4.554674e+03  4.394971e+02  4.215713e+03   \n",
              "2                     mse  4.554674e+03  4.394971e+02  4.215713e+03   \n",
              "3           null_deviance  3.289866e+07  1.644046e+06  3.134648e+07   \n",
              "4                      r2  5.618083e-01  1.780390e-02  5.698186e-01   \n",
              "5       residual_deviance  1.442941e+07  1.209516e+06  1.347764e+07   \n",
              "6                    rmse  6.742784e+01  3.193701e+00  6.492852e+01   \n",
              "7                   rmsle  3.923363e-01  9.117298e-03  3.917854e-01   \n",
              "\n",
              "     cv_2_valid    cv_3_valid    cv_4_valid    cv_5_valid  \n",
              "0  3.207299e+01  3.344030e+01  3.219800e+01  3.434029e+01  \n",
              "1  4.215392e+03  4.619903e+03  4.442565e+03  5.279795e+03  \n",
              "2  4.215392e+03  4.619903e+03  4.442565e+03  5.279795e+03  \n",
              "3  3.244519e+07  3.313144e+07  3.197252e+07  3.559768e+07  \n",
              "4  5.876204e-01  5.496027e-01  5.597998e-01  5.422003e-01  \n",
              "5  1.337965e+07  1.492229e+07  1.407405e+07  1.629345e+07  \n",
              "6  6.492605e+01  6.796987e+01  6.665257e+01  7.266220e+01  \n",
              "7  3.782855e-01  4.007943e-01  3.906985e-01  4.001177e-01  "
            ],
            "text/html": [
              "\n",
              "  <div id=\"df-e0984ae3-322e-4b55-a158-b0d834bfcbe6\">\n",
              "    <div class=\"colab-df-container\">\n",
              "      <div>\n",
              "<style scoped>\n",
              "    .dataframe tbody tr th:only-of-type {\n",
              "        vertical-align: middle;\n",
              "    }\n",
              "\n",
              "    .dataframe tbody tr th {\n",
              "        vertical-align: top;\n",
              "    }\n",
              "\n",
              "    .dataframe thead th {\n",
              "        text-align: right;\n",
              "    }\n",
              "</style>\n",
              "<table border=\"1\" class=\"dataframe\">\n",
              "  <thead>\n",
              "    <tr style=\"text-align: right;\">\n",
              "      <th></th>\n",
              "      <th></th>\n",
              "      <th>mean</th>\n",
              "      <th>sd</th>\n",
              "      <th>cv_1_valid</th>\n",
              "      <th>cv_2_valid</th>\n",
              "      <th>cv_3_valid</th>\n",
              "      <th>cv_4_valid</th>\n",
              "      <th>cv_5_valid</th>\n",
              "    </tr>\n",
              "  </thead>\n",
              "  <tbody>\n",
              "    <tr>\n",
              "      <th>0</th>\n",
              "      <td>mae</td>\n",
              "      <td>3.273680e+01</td>\n",
              "      <td>1.119903e+00</td>\n",
              "      <td>3.163240e+01</td>\n",
              "      <td>3.207299e+01</td>\n",
              "      <td>3.344030e+01</td>\n",
              "      <td>3.219800e+01</td>\n",
              "      <td>3.434029e+01</td>\n",
              "    </tr>\n",
              "    <tr>\n",
              "      <th>1</th>\n",
              "      <td>mean_residual_deviance</td>\n",
              "      <td>4.554674e+03</td>\n",
              "      <td>4.394971e+02</td>\n",
              "      <td>4.215713e+03</td>\n",
              "      <td>4.215392e+03</td>\n",
              "      <td>4.619903e+03</td>\n",
              "      <td>4.442565e+03</td>\n",
              "      <td>5.279795e+03</td>\n",
              "    </tr>\n",
              "    <tr>\n",
              "      <th>2</th>\n",
              "      <td>mse</td>\n",
              "      <td>4.554674e+03</td>\n",
              "      <td>4.394971e+02</td>\n",
              "      <td>4.215713e+03</td>\n",
              "      <td>4.215392e+03</td>\n",
              "      <td>4.619903e+03</td>\n",
              "      <td>4.442565e+03</td>\n",
              "      <td>5.279795e+03</td>\n",
              "    </tr>\n",
              "    <tr>\n",
              "      <th>3</th>\n",
              "      <td>null_deviance</td>\n",
              "      <td>3.289866e+07</td>\n",
              "      <td>1.644046e+06</td>\n",
              "      <td>3.134648e+07</td>\n",
              "      <td>3.244519e+07</td>\n",
              "      <td>3.313144e+07</td>\n",
              "      <td>3.197252e+07</td>\n",
              "      <td>3.559768e+07</td>\n",
              "    </tr>\n",
              "    <tr>\n",
              "      <th>4</th>\n",
              "      <td>r2</td>\n",
              "      <td>5.618083e-01</td>\n",
              "      <td>1.780390e-02</td>\n",
              "      <td>5.698186e-01</td>\n",
              "      <td>5.876204e-01</td>\n",
              "      <td>5.496027e-01</td>\n",
              "      <td>5.597998e-01</td>\n",
              "      <td>5.422003e-01</td>\n",
              "    </tr>\n",
              "    <tr>\n",
              "      <th>5</th>\n",
              "      <td>residual_deviance</td>\n",
              "      <td>1.442941e+07</td>\n",
              "      <td>1.209516e+06</td>\n",
              "      <td>1.347764e+07</td>\n",
              "      <td>1.337965e+07</td>\n",
              "      <td>1.492229e+07</td>\n",
              "      <td>1.407405e+07</td>\n",
              "      <td>1.629345e+07</td>\n",
              "    </tr>\n",
              "    <tr>\n",
              "      <th>6</th>\n",
              "      <td>rmse</td>\n",
              "      <td>6.742784e+01</td>\n",
              "      <td>3.193701e+00</td>\n",
              "      <td>6.492852e+01</td>\n",
              "      <td>6.492605e+01</td>\n",
              "      <td>6.796987e+01</td>\n",
              "      <td>6.665257e+01</td>\n",
              "      <td>7.266220e+01</td>\n",
              "    </tr>\n",
              "    <tr>\n",
              "      <th>7</th>\n",
              "      <td>rmsle</td>\n",
              "      <td>3.923363e-01</td>\n",
              "      <td>9.117298e-03</td>\n",
              "      <td>3.917854e-01</td>\n",
              "      <td>3.782855e-01</td>\n",
              "      <td>4.007943e-01</td>\n",
              "      <td>3.906985e-01</td>\n",
              "      <td>4.001177e-01</td>\n",
              "    </tr>\n",
              "  </tbody>\n",
              "</table>\n",
              "</div>\n",
              "      <button class=\"colab-df-convert\" onclick=\"convertToInteractive('df-e0984ae3-322e-4b55-a158-b0d834bfcbe6')\"\n",
              "              title=\"Convert this dataframe to an interactive table.\"\n",
              "              style=\"display:none;\">\n",
              "        \n",
              "  <svg xmlns=\"http://www.w3.org/2000/svg\" height=\"24px\"viewBox=\"0 0 24 24\"\n",
              "       width=\"24px\">\n",
              "    <path d=\"M0 0h24v24H0V0z\" fill=\"none\"/>\n",
              "    <path d=\"M18.56 5.44l.94 2.06.94-2.06 2.06-.94-2.06-.94-.94-2.06-.94 2.06-2.06.94zm-11 1L8.5 8.5l.94-2.06 2.06-.94-2.06-.94L8.5 2.5l-.94 2.06-2.06.94zm10 10l.94 2.06.94-2.06 2.06-.94-2.06-.94-.94-2.06-.94 2.06-2.06.94z\"/><path d=\"M17.41 7.96l-1.37-1.37c-.4-.4-.92-.59-1.43-.59-.52 0-1.04.2-1.43.59L10.3 9.45l-7.72 7.72c-.78.78-.78 2.05 0 2.83L4 21.41c.39.39.9.59 1.41.59.51 0 1.02-.2 1.41-.59l7.78-7.78 2.81-2.81c.8-.78.8-2.07 0-2.86zM5.41 20L4 18.59l7.72-7.72 1.47 1.35L5.41 20z\"/>\n",
              "  </svg>\n",
              "      </button>\n",
              "      \n",
              "  <style>\n",
              "    .colab-df-container {\n",
              "      display:flex;\n",
              "      flex-wrap:wrap;\n",
              "      gap: 12px;\n",
              "    }\n",
              "\n",
              "    .colab-df-convert {\n",
              "      background-color: #E8F0FE;\n",
              "      border: none;\n",
              "      border-radius: 50%;\n",
              "      cursor: pointer;\n",
              "      display: none;\n",
              "      fill: #1967D2;\n",
              "      height: 32px;\n",
              "      padding: 0 0 0 0;\n",
              "      width: 32px;\n",
              "    }\n",
              "\n",
              "    .colab-df-convert:hover {\n",
              "      background-color: #E2EBFA;\n",
              "      box-shadow: 0px 1px 2px rgba(60, 64, 67, 0.3), 0px 1px 3px 1px rgba(60, 64, 67, 0.15);\n",
              "      fill: #174EA6;\n",
              "    }\n",
              "\n",
              "    [theme=dark] .colab-df-convert {\n",
              "      background-color: #3B4455;\n",
              "      fill: #D2E3FC;\n",
              "    }\n",
              "\n",
              "    [theme=dark] .colab-df-convert:hover {\n",
              "      background-color: #434B5C;\n",
              "      box-shadow: 0px 1px 3px 1px rgba(0, 0, 0, 0.15);\n",
              "      filter: drop-shadow(0px 1px 2px rgba(0, 0, 0, 0.3));\n",
              "      fill: #FFFFFF;\n",
              "    }\n",
              "  </style>\n",
              "\n",
              "      <script>\n",
              "        const buttonEl =\n",
              "          document.querySelector('#df-e0984ae3-322e-4b55-a158-b0d834bfcbe6 button.colab-df-convert');\n",
              "        buttonEl.style.display =\n",
              "          google.colab.kernel.accessAllowed ? 'block' : 'none';\n",
              "\n",
              "        async function convertToInteractive(key) {\n",
              "          const element = document.querySelector('#df-e0984ae3-322e-4b55-a158-b0d834bfcbe6');\n",
              "          const dataTable =\n",
              "            await google.colab.kernel.invokeFunction('convertToInteractive',\n",
              "                                                     [key], {});\n",
              "          if (!dataTable) return;\n",
              "\n",
              "          const docLinkHtml = 'Like what you see? Visit the ' +\n",
              "            '<a target=\"_blank\" href=https://colab.research.google.com/notebooks/data_table.ipynb>data table notebook</a>'\n",
              "            + ' to learn more about interactive tables.';\n",
              "          element.innerHTML = '';\n",
              "          dataTable['output_type'] = 'display_data';\n",
              "          await google.colab.output.renderOutput(dataTable, element);\n",
              "          const docLink = document.createElement('div');\n",
              "          docLink.innerHTML = docLinkHtml;\n",
              "          element.appendChild(docLink);\n",
              "        }\n",
              "      </script>\n",
              "    </div>\n",
              "  </div>\n",
              "  "
            ]
          },
          "metadata": {}
        },
        {
          "output_type": "execute_result",
          "data": {
            "text/plain": [
              ""
            ]
          },
          "metadata": {},
          "execution_count": 22
        }
      ]
    },
    {
      "cell_type": "code",
      "source": [
        "pred=aml.leader.predict(test)"
      ],
      "metadata": {
        "colab": {
          "base_uri": "https://localhost:8080/"
        },
        "id": "N5uUnsY9Pfxg",
        "outputId": "2ef6ebab-06b4-4387-c387-0df4fa8fa8ca"
      },
      "execution_count": 23,
      "outputs": [
        {
          "output_type": "stream",
          "name": "stdout",
          "text": [
            "stackedensemble prediction progress: |███████████████████████████████████████████| (done) 100%\n"
          ]
        }
      ]
    },
    {
      "cell_type": "code",
      "source": [
        "pred.head()"
      ],
      "metadata": {
        "colab": {
          "base_uri": "https://localhost:8080/",
          "height": 254
        },
        "id": "S9rZy6rxPk-U",
        "outputId": "d9f9f0e4-6617-4592-a52a-9110f832d15b"
      },
      "execution_count": 24,
      "outputs": [
        {
          "output_type": "display_data",
          "data": {
            "text/html": [
              "<table>\n",
              "<thead>\n",
              "<tr><th style=\"text-align: right;\">  predict</th></tr>\n",
              "</thead>\n",
              "<tbody>\n",
              "<tr><td style=\"text-align: right;\">  67.7799</td></tr>\n",
              "<tr><td style=\"text-align: right;\"> 169.703 </td></tr>\n",
              "<tr><td style=\"text-align: right;\"> 155.355 </td></tr>\n",
              "<tr><td style=\"text-align: right;\"> 133.534 </td></tr>\n",
              "<tr><td style=\"text-align: right;\"> 104.906 </td></tr>\n",
              "<tr><td style=\"text-align: right;\"> 104.44  </td></tr>\n",
              "<tr><td style=\"text-align: right;\">  61.3693</td></tr>\n",
              "<tr><td style=\"text-align: right;\">  23.4997</td></tr>\n",
              "<tr><td style=\"text-align: right;\">  32.0305</td></tr>\n",
              "<tr><td style=\"text-align: right;\">  40.9646</td></tr>\n",
              "</tbody>\n",
              "</table>"
            ]
          },
          "metadata": {}
        },
        {
          "output_type": "execute_result",
          "data": {
            "text/plain": [
              ""
            ]
          },
          "metadata": {},
          "execution_count": 24
        }
      ]
    },
    {
      "cell_type": "code",
      "source": [
        "aml.leader.model_performance(test)"
      ],
      "metadata": {
        "colab": {
          "base_uri": "https://localhost:8080/"
        },
        "id": "UkjQO5XiPmz6",
        "outputId": "50f0f329-782a-4d21-e6ec-d467c07b2886"
      },
      "execution_count": 25,
      "outputs": [
        {
          "output_type": "stream",
          "name": "stdout",
          "text": [
            "\n",
            "ModelMetricsRegressionGLM: stackedensemble\n",
            "** Reported on test data. **\n",
            "\n",
            "MSE: 5046.112960007083\n",
            "RMSE: 71.03599763505179\n",
            "MAE: 34.33390871030134\n",
            "RMSLE: 0.4005055725834879\n",
            "R^2: 0.5440437739787786\n",
            "Mean Residual Deviance: 5046.112960007083\n",
            "Null degrees of freedom: 3879\n",
            "Residual degrees of freedom: 3874\n",
            "Null deviance: 42947879.984390184\n",
            "Residual deviance: 19578918.284827482\n",
            "AIC: 44107.292255869026\n"
          ]
        },
        {
          "output_type": "execute_result",
          "data": {
            "text/plain": [
              ""
            ]
          },
          "metadata": {},
          "execution_count": 25
        }
      ]
    },
    {
      "cell_type": "code",
      "source": [
        "h2o.save_model(aml.leader, path=\"./\")"
      ],
      "metadata": {
        "colab": {
          "base_uri": "https://localhost:8080/",
          "height": 35
        },
        "id": "s9f8nJXNPpFH",
        "outputId": "483b434d-0b88-4dd0-afc8-ada23c2e7d84"
      },
      "execution_count": 26,
      "outputs": [
        {
          "output_type": "execute_result",
          "data": {
            "text/plain": [
              "'/content/StackedEnsemble_AllModels_1_AutoML_1_20220805_21704'"
            ],
            "application/vnd.google.colaboratory.intrinsic+json": {
              "type": "string"
            }
          },
          "metadata": {},
          "execution_count": 26
        }
      ]
    }
  ]
}